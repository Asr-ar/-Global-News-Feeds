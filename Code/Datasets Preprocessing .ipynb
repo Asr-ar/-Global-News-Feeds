{
 "cells": [
  {
   "cell_type": "markdown",
   "id": "54209cac",
   "metadata": {},
   "source": [
    "#### In this notebook we will collect and preprocess over the Datasets befor concat them in one DF."
   ]
  },
  {
   "cell_type": "markdown",
   "id": "d2b1f110",
   "metadata": {},
   "source": [
    "### Setup "
   ]
  },
  {
   "cell_type": "markdown",
   "id": "0ad9727b",
   "metadata": {},
   "source": [
    "Data manipulation libraries:"
   ]
  },
  {
   "cell_type": "code",
   "execution_count": 1,
   "id": "59eeb8c3",
   "metadata": {},
   "outputs": [],
   "source": [
    "import pandas as pd \n",
    "import numpy  as np"
   ]
  },
  {
   "cell_type": "markdown",
   "id": "c3d03419",
   "metadata": {},
   "source": [
    "Language detection library:"
   ]
  },
  {
   "cell_type": "code",
   "execution_count": 2,
   "id": "ecad280c",
   "metadata": {},
   "outputs": [],
   "source": [
    "from langdetect import detect "
   ]
  },
  {
   "cell_type": "markdown",
   "id": "9334174e",
   "metadata": {},
   "source": [
    "### Data-Sets"
   ]
  },
  {
   "cell_type": "markdown",
   "id": "fe1e5f1c",
   "metadata": {},
   "source": [
    "This dataset is a snapshot of most of the new news content published online over one week.   \n",
    "It covers the seven day period from august 24 through august 30 for the years of 2017 and 2018."
   ]
  },
  {
   "cell_type": "markdown",
   "id": "b6cde2b5",
   "metadata": {},
   "source": [
    "1. 2017 Dataset"
   ]
  },
  {
   "cell_type": "code",
   "execution_count": 2,
   "id": "0dd1f63a",
   "metadata": {},
   "outputs": [],
   "source": [
    "G_news_2017 = pd.read_csv('news-week-17aug24.csv')"
   ]
  },
  {
   "cell_type": "code",
   "execution_count": 3,
   "id": "f8862892",
   "metadata": {},
   "outputs": [
    {
     "data": {
      "text/plain": [
       "(1395586, 4)"
      ]
     },
     "execution_count": 3,
     "metadata": {},
     "output_type": "execute_result"
    }
   ],
   "source": [
    "G_news_2017.shape"
   ]
  },
  {
   "cell_type": "markdown",
   "id": "61c5409d",
   "metadata": {},
   "source": [
    "2. 2018 Dataset"
   ]
  },
  {
   "cell_type": "code",
   "execution_count": 4,
   "id": "95baeb8e",
   "metadata": {},
   "outputs": [],
   "source": [
    "G_news_2018 = pd.read_csv('news-week-18aug24.csv')"
   ]
  },
  {
   "cell_type": "code",
   "execution_count": 5,
   "id": "3d2d8d7f",
   "metadata": {},
   "outputs": [
    {
     "data": {
      "text/plain": [
       "(1909739, 4)"
      ]
     },
     "execution_count": 5,
     "metadata": {},
     "output_type": "execute_result"
    }
   ],
   "source": [
    "G_news_2018.shape"
   ]
  },
  {
   "cell_type": "markdown",
   "id": "a4202566",
   "metadata": {},
   "source": [
    "Benchmark dataset contains multiple langauge, and each language contains 1000 rows/paragraphs."
   ]
  },
  {
   "cell_type": "markdown",
   "id": "c233f7cd",
   "metadata": {},
   "source": [
    "3. Language Identification dataset"
   ]
  },
  {
   "cell_type": "code",
   "execution_count": 6,
   "id": "180caa47",
   "metadata": {},
   "outputs": [],
   "source": [
    "Lang = pd.read_csv('dataset.csv')"
   ]
  },
  {
   "cell_type": "code",
   "execution_count": 7,
   "id": "eef299af",
   "metadata": {},
   "outputs": [
    {
     "data": {
      "text/plain": [
       "(22000, 2)"
      ]
     },
     "execution_count": 7,
     "metadata": {},
     "output_type": "execute_result"
    }
   ],
   "source": [
    "Lang.shape"
   ]
  },
  {
   "cell_type": "markdown",
   "id": "047032ba",
   "metadata": {},
   "source": [
    "### Data Preprocessing"
   ]
  },
  {
   "cell_type": "markdown",
   "id": "5daaf78f",
   "metadata": {},
   "source": [
    "- Befor concat the three DFs they should has the same columns( language - Text)  \n",
    "  So the function below we help us for language detection."
   ]
  },
  {
   "cell_type": "code",
   "execution_count": 8,
   "id": "72215fc1",
   "metadata": {},
   "outputs": [],
   "source": [
    "def detect_language(text):\n",
    "    try:\n",
    "        language = detect(text)\n",
    "        if language == 'en':\n",
    "            return 'English'\n",
    "        \n",
    "        elif language == 'ar':\n",
    "            return 'Arabic'\n",
    "        \n",
    "        elif language == 'fr':\n",
    "            return 'French'\n",
    "        \n",
    "        elif language == 'ru':\n",
    "            return \"Russian\" \n",
    "        \n",
    "        elif language == 'ja':\n",
    "             return \"Japanese\" \n",
    "            \n",
    "        elif language == 'es':\n",
    "             return \"Spanish\" \n",
    "            \n",
    "        elif language == 'hi':\n",
    "             return \"Hindi\" \n",
    "            \n",
    "        elif language == 'de':\n",
    "             return \"German\"\n",
    "        \n",
    "        elif language == 'el':\n",
    "             return \"Greek\"\n",
    "            \n",
    "        elif language == 'tr':\n",
    "             return \"Turkish\"\n",
    "        \n",
    "    except:\n",
    "            return 'Other'"
   ]
  },
  {
   "cell_type": "code",
   "execution_count": 9,
   "id": "5434cd06",
   "metadata": {},
   "outputs": [],
   "source": [
    "G_news_2017['language'] = G_news_2017['headline_text'].astype(str).apply(detect_language)"
   ]
  },
  {
   "cell_type": "code",
   "execution_count": 10,
   "id": "58da75d3",
   "metadata": {},
   "outputs": [],
   "source": [
    "G_news_2018['language'] = G_news_2018['headline_text'].astype(str).apply(detect_language)"
   ]
  },
  {
   "cell_type": "markdown",
   "id": "dec6c15d",
   "metadata": {},
   "source": [
    "- create a sub df from the Benchmark dataset(Lang)"
   ]
  },
  {
   "cell_type": "code",
   "execution_count": 11,
   "id": "76773589",
   "metadata": {},
   "outputs": [],
   "source": [
    "SubLang = Lang.copy()"
   ]
  },
  {
   "cell_type": "code",
   "execution_count": 15,
   "id": "189ab683",
   "metadata": {},
   "outputs": [],
   "source": [
    "SubLang['language'] = SubLang['Text'].astype(str).apply(detect_language)"
   ]
  },
  {
   "cell_type": "markdown",
   "id": "8ecd9395",
   "metadata": {},
   "source": [
    "- Drop the uneeded columns and rename. "
   ]
  },
  {
   "cell_type": "code",
   "execution_count": 17,
   "id": "a35f7d93",
   "metadata": {},
   "outputs": [],
   "source": [
    "G_news_2017.rename(\n",
    "    inplace=True,\n",
    "    columns={'headline_text':'Text'})\n",
    "G_news_2017.drop(['publish_time' ,'feed_code', 'source_url'], axis=1, inplace=True)"
   ]
  },
  {
   "cell_type": "code",
   "execution_count": 18,
   "id": "f835dde1",
   "metadata": {},
   "outputs": [],
   "source": [
    "G_news_2018.rename(\n",
    "    inplace=True,\n",
    "    columns={'headline_text':'Text'})\n",
    "G_news_2018.drop(['publish_time' ,'feed_code', 'source_url'], axis=1, inplace=True)"
   ]
  },
  {
   "cell_type": "markdown",
   "id": "3de67d9c",
   "metadata": {},
   "source": [
    "- Concat the three datasets"
   ]
  },
  {
   "cell_type": "code",
   "execution_count": 19,
   "id": "48bb7251",
   "metadata": {},
   "outputs": [],
   "source": [
    "Global_news = pd.concat([G_news_2017, G_news_2018, SubLang], ignore_index=True)"
   ]
  },
  {
   "cell_type": "markdown",
   "id": "dd47f091",
   "metadata": {},
   "source": [
    "- Create new df for only global news in english language."
   ]
  },
  {
   "cell_type": "code",
   "execution_count": 20,
   "id": "acce7246",
   "metadata": {},
   "outputs": [],
   "source": [
    "English_Global_news = Global_news[Global_news.language == 'English']"
   ]
  },
  {
   "cell_type": "markdown",
   "id": "fecb5050",
   "metadata": {},
   "source": [
    "- Save the DFs in csv files"
   ]
  },
  {
   "cell_type": "code",
   "execution_count": 21,
   "id": "b42408be",
   "metadata": {},
   "outputs": [],
   "source": [
    "Global_news.to_csv('Global_news.csv')"
   ]
  },
  {
   "cell_type": "code",
   "execution_count": 22,
   "id": "c36f620f",
   "metadata": {},
   "outputs": [],
   "source": [
    "English_Global_news.to_csv('English_Global_news.csv')"
   ]
  },
  {
   "cell_type": "code",
   "execution_count": 24,
   "id": "c60a3a26",
   "metadata": {},
   "outputs": [
    {
     "name": "stdout",
     "output_type": "stream",
     "text": [
      "<class 'pandas.core.frame.DataFrame'>\n",
      "RangeIndex: 3327325 entries, 0 to 3327324\n",
      "Data columns (total 2 columns):\n",
      " #   Column    Dtype \n",
      "---  ------    ----- \n",
      " 0   Text      object\n",
      " 1   language  object\n",
      "dtypes: object(2)\n",
      "memory usage: 50.8+ MB\n"
     ]
    }
   ],
   "source": [
    "Global_news.info()"
   ]
  },
  {
   "cell_type": "code",
   "execution_count": 25,
   "id": "c4d85d58",
   "metadata": {},
   "outputs": [
    {
     "name": "stdout",
     "output_type": "stream",
     "text": [
      "<class 'pandas.core.frame.DataFrame'>\n",
      "Int64Index: 1263809 entries, 0 to 3327276\n",
      "Data columns (total 2 columns):\n",
      " #   Column    Non-Null Count    Dtype \n",
      "---  ------    --------------    ----- \n",
      " 0   Text      1263809 non-null  object\n",
      " 1   language  1263809 non-null  object\n",
      "dtypes: object(2)\n",
      "memory usage: 28.9+ MB\n"
     ]
    }
   ],
   "source": [
    "English_Global_news.info()"
   ]
  }
 ],
 "metadata": {
  "kernelspec": {
   "display_name": "Python 3",
   "language": "python",
   "name": "python3"
  },
  "language_info": {
   "codemirror_mode": {
    "name": "ipython",
    "version": 3
   },
   "file_extension": ".py",
   "mimetype": "text/x-python",
   "name": "python",
   "nbconvert_exporter": "python",
   "pygments_lexer": "ipython3",
   "version": "3.8.8"
  }
 },
 "nbformat": 4,
 "nbformat_minor": 5
}
